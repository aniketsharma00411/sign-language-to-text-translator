{
  "nbformat": 4,
  "nbformat_minor": 0,
  "metadata": {
    "colab": {
      "name": "asl_basic_ensemble.ipynb",
      "provenance": [],
      "collapsed_sections": [],
      "include_colab_link": true
    },
    "kernelspec": {
      "name": "python3",
      "display_name": "Python 3"
    },
    "language_info": {
      "name": "python"
    },
    "accelerator": "GPU"
  },
  "cells": [
    {
      "cell_type": "markdown",
      "metadata": {
        "id": "view-in-github",
        "colab_type": "text"
      },
      "source": [
        "<a href=\"https://colab.research.google.com/github/aniketsharma00411/sign-language-to-text-translator/blob/main/ensemble.ipynb\" target=\"_parent\"><img src=\"https://colab.research.google.com/assets/colab-badge.svg\" alt=\"Open In Colab\"/></a>"
      ]
    },
    {
      "cell_type": "markdown",
      "metadata": {
        "id": "L9_rhP8lKYBz"
      },
      "source": [
        "# Initialization"
      ]
    },
    {
      "cell_type": "code",
      "metadata": {
        "id": "go1lIWbfmKIF"
      },
      "source": [
        "from google.colab import files\n",
        "import os\n",
        "\n",
        "from keras.preprocessing.image import ImageDataGenerator\n",
        "from keras import models\n",
        "from keras import layers\n",
        "from keras.optimizers import Adam\n",
        "from keras.callbacks import EarlyStopping\n",
        "\n",
        "import matplotlib.pyplot as plt\n",
        "\n",
        "import random\n",
        "import shutil"
      ],
      "execution_count": null,
      "outputs": []
    },
    {
      "cell_type": "code",
      "metadata": {
        "id": "9QE9IQcN2Ktq",
        "colab": {
          "resources": {
            "http://localhost:8080/nbextensions/google.colab/files.js": {
              "data": "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",
              "ok": true,
              "headers": [
                [
                  "content-type",
                  "application/javascript"
                ]
              ],
              "status": 200,
              "status_text": "OK"
            }
          },
          "base_uri": "https://localhost:8080/",
          "height": 162
        },
        "outputId": "f5bb7c41-7ec9-4ba9-e395-a389e003e1da"
      },
      "source": [
        "if not os.path.exists(os.path.expanduser('~')+'/.kaggle'):\n",
        "    ! mkdir ~/.kaggle\n",
        "os.chdir(os.path.expanduser('~')+'/.kaggle')\n",
        "if not os.path.exists(os.path.expanduser('~')+'/.kaggle/kaggle.json'):\n",
        "    kaggle_api_file = files.upload()\n",
        "    ! kaggle datasets download -d grassknoted/asl-alphabet\n",
        "    ! unzip -q asl-alphabet.zip\n",
        "    ! rm -rf asl_alphabet_train/asl_alphabet_train/del\n",
        "    ! rm asl-alphabet.zip"
      ],
      "execution_count": null,
      "outputs": [
        {
          "output_type": "display_data",
          "data": {
            "text/html": [
              "\n",
              "     <input type=\"file\" id=\"files-8bf79dba-fda7-4b6d-a062-820a5a4d1d8d\" name=\"files[]\" multiple disabled\n",
              "        style=\"border:none\" />\n",
              "     <output id=\"result-8bf79dba-fda7-4b6d-a062-820a5a4d1d8d\">\n",
              "      Upload widget is only available when the cell has been executed in the\n",
              "      current browser session. Please rerun this cell to enable.\n",
              "      </output>\n",
              "      <script src=\"/nbextensions/google.colab/files.js\"></script> "
            ],
            "text/plain": [
              "<IPython.core.display.HTML object>"
            ]
          },
          "metadata": {
            "tags": []
          }
        },
        {
          "output_type": "stream",
          "text": [
            "Saving kaggle.json to kaggle.json\n",
            "Warning: Your Kaggle API key is readable by other users on this system! To fix this, you can run 'chmod 600 /root/.kaggle/kaggle.json'\n",
            "Downloading asl-alphabet.zip to /root/.kaggle\n",
            " 99% 1.02G/1.03G [00:04<00:00, 220MB/s]\n",
            "100% 1.03G/1.03G [00:04<00:00, 223MB/s]\n"
          ],
          "name": "stdout"
        }
      ]
    },
    {
      "cell_type": "code",
      "metadata": {
        "id": "J93cechx16A7",
        "colab": {
          "base_uri": "https://localhost:8080/"
        },
        "outputId": "099b4ef1-9af7-435d-b80e-7f9a84e1d103"
      },
      "source": [
        "! ls"
      ],
      "execution_count": null,
      "outputs": [
        {
          "output_type": "stream",
          "text": [
            "asl_alphabet_test  asl_alphabet_train  kaggle.json\n"
          ],
          "name": "stdout"
        }
      ]
    },
    {
      "cell_type": "markdown",
      "metadata": {
        "id": "06Ikfjyqq3M7"
      },
      "source": [
        "# Bootstrap Aggregation"
      ]
    },
    {
      "cell_type": "code",
      "metadata": {
        "id": "roBD0CTC4CTc"
      },
      "source": [
        "random.seed(42)"
      ],
      "execution_count": null,
      "outputs": []
    },
    {
      "cell_type": "code",
      "metadata": {
        "id": "NSuyObHj2Raw"
      },
      "source": [
        "def create_data():\n",
        "    if 'bagging_data' in os.listdir():\n",
        "        shutil.rmtree('bagging_data')\n",
        "    os.mkdir('bagging_data')\n",
        "\n",
        "    characters = ['A', 'B', 'C', 'D', 'E', 'F', 'G', 'H', 'I', 'J', 'K', 'L', 'M', 'N', 'O', 'P', 'Q', 'R', 'S', 'T', 'U', 'V', 'W', 'X', 'Y', 'Z', 'nothing', 'space']\n",
        "    for character in characters:\n",
        "        os.mkdir(os.path.join('bagging_data', character))\n",
        "        to_copy = random.choices(os.listdir('asl_alphabet_train/asl_alphabet_train/'+character), k=3000)\n",
        "        for num, image in enumerate(to_copy):\n",
        "            shutil.copy(\n",
        "                os.path.join('asl_alphabet_train/asl_alphabet_train/', character, image),\n",
        "                os.path.join('bagging_data', character, str(num)+'.jpg')\n",
        "                )"
      ],
      "execution_count": null,
      "outputs": []
    },
    {
      "cell_type": "markdown",
      "metadata": {
        "id": "xgDXn_KLBbco"
      },
      "source": [
        "# Data preprocessing"
      ]
    },
    {
      "cell_type": "code",
      "metadata": {
        "id": "4SBNRL6E4JDJ"
      },
      "source": [
        "def get_data_generators():\n",
        "    create_data()\n",
        "    train_data = 'bagging_data'\n",
        "    image_gen = ImageDataGenerator(\n",
        "        rescale=1/255,\n",
        "        validation_split=0.2\n",
        "        )\n",
        "    \n",
        "    train_gen = image_gen.flow_from_directory(\n",
        "        train_data,\n",
        "        target_size=(224,224),\n",
        "        class_mode='categorical',\n",
        "        color_mode='rgb',\n",
        "        shuffle=True,\n",
        "        batch_size=32,\n",
        "        seed=0,\n",
        "        subset='training'\n",
        "        )\n",
        "    \n",
        "    val_gen = image_gen.flow_from_directory(\n",
        "        train_data,\n",
        "        target_size=(224,224),\n",
        "        class_mode='categorical',\n",
        "        color_mode='rgb',\n",
        "        shuffle=True,\n",
        "        batch_size=32,\n",
        "        seed=0,\n",
        "        subset='validation'\n",
        "        )\n",
        "    \n",
        "    return train_gen, val_gen"
      ],
      "execution_count": null,
      "outputs": []
    },
    {
      "cell_type": "markdown",
      "metadata": {
        "id": "91g7mZprKg0X"
      },
      "source": [
        "# Creating model"
      ]
    },
    {
      "cell_type": "code",
      "metadata": {
        "id": "xoIMOQhD-i4I"
      },
      "source": [
        "def get_model():\n",
        "    model = models.Sequential()\n",
        "\n",
        "    model.add(layers.Conv2D(filters=64,\n",
        "                            kernel_size=9,\n",
        "                            padding='same',\n",
        "                            activation='relu',\n",
        "                            input_shape=(224, 224, 3)))\n",
        "    model.add(layers.MaxPooling2D(pool_size=2,\n",
        "                                padding='same'))\n",
        "    model.add(layers.Conv2D(filters=64,\n",
        "                            kernel_size=9,\n",
        "                            padding='same',\n",
        "                            activation='relu'))\n",
        "    model.add(layers.MaxPooling2D(pool_size=2,\n",
        "                                padding='same'))\n",
        "    model.add(layers.Conv2D(filters=64,\n",
        "                            kernel_size=9,\n",
        "                            padding='same',\n",
        "                            activation='relu'))\n",
        "    model.add(layers.MaxPooling2D(pool_size=2,\n",
        "                                padding='same'))\n",
        "    model.add(layers.Conv2D(filters=64,\n",
        "                            kernel_size=9,\n",
        "                            padding='same',\n",
        "                            activation='relu'))\n",
        "    model.add(layers.MaxPooling2D(pool_size=2,\n",
        "                                padding='same'))\n",
        "    model.add(layers.Flatten())\n",
        "    model.add(layers.Dense(units=128,\n",
        "                            activation='relu'))\n",
        "    model.add(layers.Dense(units=128,\n",
        "                            activation='relu'))\n",
        "    model.add(layers.Dense(units=128,\n",
        "                            activation='relu'))\n",
        "    model.add(layers.Dense(units=128,\n",
        "                            activation='relu'))\n",
        "        \n",
        "    model.add(layers.Dense(28, activation='softmax'))\n",
        "\n",
        "    return model"
      ],
      "execution_count": null,
      "outputs": []
    },
    {
      "cell_type": "code",
      "metadata": {
        "id": "PsdB7TNJy7J8"
      },
      "source": [
        "def train_model(model):\n",
        "    model.compile(\n",
        "        optimizer=Adam(learning_rate=1e-4),\n",
        "        loss='categorical_crossentropy',\n",
        "        metrics=['accuracy']\n",
        "        )\n",
        "    \n",
        "    early_stopping_callback = EarlyStopping(\n",
        "        monitor='val_accuracy',\n",
        "        patience=2,\n",
        "        mode='max',\n",
        "        restore_best_weights=True\n",
        "        )\n",
        "    \n",
        "    model.fit(\n",
        "        train_gen,\n",
        "        epochs=20,\n",
        "        validation_data=val_gen,\n",
        "        callbacks=[early_stopping_callback]\n",
        "        )"
      ],
      "execution_count": null,
      "outputs": []
    },
    {
      "cell_type": "markdown",
      "metadata": {
        "id": "aolPh3XF8fbK"
      },
      "source": [
        "# Training the model"
      ]
    },
    {
      "cell_type": "code",
      "metadata": {
        "id": "dI5a0B_u-8LA",
        "colab": {
          "base_uri": "https://localhost:8080/"
        },
        "outputId": "1bc76330-304a-41b8-8ca1-bc5a38aae3d6"
      },
      "source": [
        "NUM_MODELS = 5\n",
        "\n",
        "for num in range(NUM_MODELS):\n",
        "    train_gen, val_gen = get_data_generators()\n",
        "    model = get_model()\n",
        "    train_model(model)\n",
        "\n",
        "    model.save(f'../asl_basic_ensemble_{num}.h5')"
      ],
      "execution_count": null,
      "outputs": [
        {
          "output_type": "stream",
          "text": [
            "Found 67200 images belonging to 28 classes.\n",
            "Found 16800 images belonging to 28 classes.\n",
            "Epoch 1/20\n",
            "2100/2100 [==============================] - 313s 126ms/step - loss: 1.9054 - accuracy: 0.4288 - val_loss: 0.1995 - val_accuracy: 0.9343\n",
            "Epoch 2/20\n",
            "2100/2100 [==============================] - 265s 126ms/step - loss: 0.1508 - accuracy: 0.9492 - val_loss: 0.0519 - val_accuracy: 0.9828\n",
            "Epoch 3/20\n",
            "2100/2100 [==============================] - 263s 125ms/step - loss: 0.0648 - accuracy: 0.9790 - val_loss: 0.0429 - val_accuracy: 0.9874\n",
            "Epoch 4/20\n",
            "2100/2100 [==============================] - 265s 126ms/step - loss: 0.0475 - accuracy: 0.9849 - val_loss: 0.0399 - val_accuracy: 0.9869\n",
            "Epoch 5/20\n",
            "2100/2100 [==============================] - 264s 126ms/step - loss: 0.0322 - accuracy: 0.9898 - val_loss: 0.0793 - val_accuracy: 0.9745\n",
            "Found 67200 images belonging to 28 classes.\n",
            "Found 16800 images belonging to 28 classes.\n",
            "Epoch 1/20\n",
            "2100/2100 [==============================] - 266s 126ms/step - loss: 2.0776 - accuracy: 0.3819 - val_loss: 0.2648 - val_accuracy: 0.9099\n",
            "Epoch 2/20\n",
            "2100/2100 [==============================] - 263s 125ms/step - loss: 0.1388 - accuracy: 0.9546 - val_loss: 0.0576 - val_accuracy: 0.9807\n",
            "Epoch 3/20\n",
            "2100/2100 [==============================] - 264s 126ms/step - loss: 0.0618 - accuracy: 0.9801 - val_loss: 0.0593 - val_accuracy: 0.9850\n",
            "Epoch 4/20\n",
            "2100/2100 [==============================] - 262s 125ms/step - loss: 0.0402 - accuracy: 0.9880 - val_loss: 0.0522 - val_accuracy: 0.9827\n",
            "Epoch 5/20\n",
            "2100/2100 [==============================] - 264s 126ms/step - loss: 0.0305 - accuracy: 0.9905 - val_loss: 0.0315 - val_accuracy: 0.9906\n",
            "Epoch 6/20\n",
            "2100/2100 [==============================] - 264s 126ms/step - loss: 0.0215 - accuracy: 0.9934 - val_loss: 0.0232 - val_accuracy: 0.9930\n",
            "Epoch 7/20\n",
            "2100/2100 [==============================] - 263s 125ms/step - loss: 0.0189 - accuracy: 0.9945 - val_loss: 0.0217 - val_accuracy: 0.9930\n",
            "Epoch 8/20\n",
            "2100/2100 [==============================] - 265s 126ms/step - loss: 0.0210 - accuracy: 0.9937 - val_loss: 0.0194 - val_accuracy: 0.9937\n",
            "Epoch 9/20\n",
            "2100/2100 [==============================] - 263s 125ms/step - loss: 0.0102 - accuracy: 0.9970 - val_loss: 0.0073 - val_accuracy: 0.9981\n",
            "Epoch 10/20\n",
            "2100/2100 [==============================] - 264s 126ms/step - loss: 0.0128 - accuracy: 0.9963 - val_loss: 0.0092 - val_accuracy: 0.9982\n",
            "Epoch 11/20\n",
            "2100/2100 [==============================] - 264s 126ms/step - loss: 0.0082 - accuracy: 0.9977 - val_loss: 0.0093 - val_accuracy: 0.9963\n",
            "Epoch 12/20\n",
            "2100/2100 [==============================] - 263s 125ms/step - loss: 0.0064 - accuracy: 0.9979 - val_loss: 0.0172 - val_accuracy: 0.9951\n",
            "Found 67200 images belonging to 28 classes.\n",
            "Found 16800 images belonging to 28 classes.\n",
            "Epoch 1/20\n",
            "2100/2100 [==============================] - 266s 126ms/step - loss: 1.9182 - accuracy: 0.4249 - val_loss: 0.2045 - val_accuracy: 0.9311\n",
            "Epoch 2/20\n",
            "2100/2100 [==============================] - 265s 126ms/step - loss: 0.1379 - accuracy: 0.9549 - val_loss: 0.0509 - val_accuracy: 0.9836\n",
            "Epoch 3/20\n",
            "2100/2100 [==============================] - 265s 126ms/step - loss: 0.0553 - accuracy: 0.9826 - val_loss: 0.0359 - val_accuracy: 0.9891\n",
            "Epoch 4/20\n",
            "2100/2100 [==============================] - 264s 126ms/step - loss: 0.0373 - accuracy: 0.9876 - val_loss: 0.0798 - val_accuracy: 0.9753\n",
            "Epoch 5/20\n",
            "2100/2100 [==============================] - 265s 126ms/step - loss: 0.0300 - accuracy: 0.9905 - val_loss: 0.0139 - val_accuracy: 0.9961\n",
            "Epoch 6/20\n",
            "2100/2100 [==============================] - 265s 126ms/step - loss: 0.0208 - accuracy: 0.9937 - val_loss: 0.0210 - val_accuracy: 0.9936\n",
            "Epoch 7/20\n",
            "2100/2100 [==============================] - 264s 126ms/step - loss: 0.0207 - accuracy: 0.9935 - val_loss: 0.0397 - val_accuracy: 0.9891\n",
            "Found 67200 images belonging to 28 classes.\n",
            "Found 16800 images belonging to 28 classes.\n",
            "Epoch 1/20\n",
            "2100/2100 [==============================] - 265s 126ms/step - loss: 2.0173 - accuracy: 0.3942 - val_loss: 0.2535 - val_accuracy: 0.9101\n",
            "Epoch 2/20\n",
            "2100/2100 [==============================] - 265s 126ms/step - loss: 0.1690 - accuracy: 0.9434 - val_loss: 0.1130 - val_accuracy: 0.9626\n",
            "Epoch 3/20\n",
            "2100/2100 [==============================] - 265s 126ms/step - loss: 0.0676 - accuracy: 0.9787 - val_loss: 0.0653 - val_accuracy: 0.9785\n",
            "Epoch 4/20\n",
            "2100/2100 [==============================] - 265s 126ms/step - loss: 0.0493 - accuracy: 0.9837 - val_loss: 0.0171 - val_accuracy: 0.9954\n",
            "Epoch 5/20\n",
            "2100/2100 [==============================] - 265s 126ms/step - loss: 0.0293 - accuracy: 0.9905 - val_loss: 0.0313 - val_accuracy: 0.9898\n",
            "Epoch 6/20\n",
            "2100/2100 [==============================] - 265s 126ms/step - loss: 0.0308 - accuracy: 0.9901 - val_loss: 0.0261 - val_accuracy: 0.9924\n",
            "Found 67200 images belonging to 28 classes.\n",
            "Found 16800 images belonging to 28 classes.\n",
            "Epoch 1/20\n",
            "2100/2100 [==============================] - 265s 126ms/step - loss: 2.1491 - accuracy: 0.3701 - val_loss: 0.2008 - val_accuracy: 0.9366\n",
            "Epoch 2/20\n",
            "2100/2100 [==============================] - 263s 125ms/step - loss: 0.1326 - accuracy: 0.9559 - val_loss: 0.0553 - val_accuracy: 0.9830\n",
            "Epoch 3/20\n",
            "2100/2100 [==============================] - 264s 126ms/step - loss: 0.0558 - accuracy: 0.9819 - val_loss: 0.0382 - val_accuracy: 0.9893\n",
            "Epoch 4/20\n",
            "2100/2100 [==============================] - 264s 126ms/step - loss: 0.0328 - accuracy: 0.9897 - val_loss: 0.0309 - val_accuracy: 0.9912\n",
            "Epoch 5/20\n",
            "2100/2100 [==============================] - 263s 125ms/step - loss: 0.0289 - accuracy: 0.9910 - val_loss: 0.0266 - val_accuracy: 0.9918\n",
            "Epoch 6/20\n",
            "2100/2100 [==============================] - 264s 126ms/step - loss: 0.0249 - accuracy: 0.9925 - val_loss: 0.0154 - val_accuracy: 0.9955\n",
            "Epoch 7/20\n",
            "2100/2100 [==============================] - 263s 125ms/step - loss: 0.0169 - accuracy: 0.9949 - val_loss: 0.0147 - val_accuracy: 0.9960\n",
            "Epoch 8/20\n",
            "2100/2100 [==============================] - 264s 126ms/step - loss: 0.0151 - accuracy: 0.9959 - val_loss: 0.0210 - val_accuracy: 0.9943\n",
            "Epoch 9/20\n",
            "2100/2100 [==============================] - 264s 126ms/step - loss: 0.0194 - accuracy: 0.9947 - val_loss: 0.0140 - val_accuracy: 0.9955\n"
          ],
          "name": "stdout"
        }
      ]
    }
  ]
}